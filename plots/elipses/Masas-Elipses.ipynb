{
 "metadata": {
  "name": "",
  "signature": "sha256:a4c5ee142f226cc22cd75317ebcff1fbfc0b0dc30d15c3dd0ba701af13d3ed52"
 },
 "nbformat": 3,
 "nbformat_minor": 0,
 "worksheets": [
  {
   "cells": [
    {
     "cell_type": "code",
     "collapsed": false,
     "input": [
      "import numpy as np\n",
      "import matplotlib as mpl\n",
      "import matplotlib.pyplot as plt\n",
      "from matplotlib.patches import Ellipse\n",
      "import glob"
     ],
     "language": "python",
     "metadata": {},
     "outputs": [],
     "prompt_number": 1
    },
    {
     "cell_type": "code",
     "collapsed": false,
     "input": [
      "path_carpeta='/home/meugenia/al_final/'\n",
      "path_carpeta_LR='/home/meugenia/al_final/LR/'\n",
      "path_inputs='/home/meugenia/0/LR/inputs_grupo0/'"
     ],
     "language": "python",
     "metadata": {},
     "outputs": [],
     "prompt_number": 2
    },
    {
     "cell_type": "code",
     "collapsed": false,
     "input": [
      "reg  =29\n",
      "flav =1\n",
      "snap =3"
     ],
     "language": "python",
     "metadata": {},
     "outputs": [],
     "prompt_number": 485
    },
    {
     "cell_type": "code",
     "collapsed": false,
     "input": [
      "rreg   = [\"NONE\",\"D1\",\"D2\",\"D3\",\"D4\",\"D5\",\"D6\",\"D7\",\"D8\",\"D9\",\"D10\",\"D11\",\"D12\",\"D13\",\"D14\",\n",
      "          \"D15\",\"D16\",\"D17\",\"D18\",\"D19\",\"D20\",\"D21\",\"D22\",\"D23\",\"D24\",\"D25\",\"D26\",\"D27\",\"D28\",\"D29\"]\n",
      "fflav  = [\"LR_CSF\",\"LR_minpot3_rmmax\",\"MR_minpot3_rmmax\"]\n",
      "ssnap  = [\"026\",\"032\",\"041\",\"091\"]"
     ],
     "language": "python",
     "metadata": {},
     "outputs": [],
     "prompt_number": 486
    },
    {
     "cell_type": "code",
     "collapsed": false,
     "input": [
      "aa,bb,xx0,yy0,phi,chi = np.loadtxt('parametros.txt', usecols=[1,2,3,4,5,6], unpack=True)\n",
      "m24,r24 = np.loadtxt(path_carpeta_LR+'LR_minpot_091_band125_nodust_grupo0.txt', usecols=[2,3], unpack=True)"
     ],
     "language": "python",
     "metadata": {},
     "outputs": [],
     "prompt_number": 487
    },
    {
     "cell_type": "code",
     "collapsed": false,
     "input": [
      "x,y,sb = np.loadtxt(path_carpeta+'sb_091/sb_091_D'+str(reg), unpack=True)\n",
      "mm=0\n",
      "primeraparte=path_inputs+rreg[reg]+'_'+fflav[flav]+'_'+ssnap[snap]\n",
      "for path_mass in glob.glob(primeraparte + '*_NoDust.dat'):\n",
      "    mm+=1\n",
      "path_mass_data = path_mass\n",
      "ptype,posx,posy,posz,pmass = np.loadtxt(path_mass_data , skiprows=1 , usecols=[0,1,2,3,8] , unpack=True)"
     ],
     "language": "python",
     "metadata": {},
     "outputs": [],
     "prompt_number": 488
    },
    {
     "cell_type": "code",
     "collapsed": false,
     "input": [
      "path_mass_data"
     ],
     "language": "python",
     "metadata": {},
     "outputs": [
      {
       "metadata": {},
       "output_type": "pyout",
       "prompt_number": 489,
       "text": [
        "'/home/meugenia/0/LR/inputs_grupo0/D29_LR_minpot3_rmmax_091_sub0_L500kpc_NoDust.dat'"
       ]
      }
     ],
     "prompt_number": 489
    },
    {
     "cell_type": "code",
     "collapsed": false,
     "input": [
      "a,b,x0,y0,pa=aa[reg-1],bb[reg-1],xx0[reg-1],yy0[reg-1],phi[reg-1]\n",
      "print a,b,x0,y0,pa*180/np.pi"
     ],
     "language": "python",
     "metadata": {},
     "outputs": [
      {
       "output_type": "stream",
       "stream": "stdout",
       "text": [
        "98.471 77.863 7.4635 3.4243 29.2775703734\n"
       ]
      }
     ],
     "prompt_number": 490
    },
    {
     "cell_type": "code",
     "collapsed": false,
     "input": [
      "theta= np.linspace(0,2*np.pi,300)\n",
      "xm   =-x0 + a*np.cos(theta)*np.cos(pa) + b*np.sin(theta)*np.sin(pa)\n",
      "ym   = y0 - a*np.cos(theta)*np.sin(pa) + b*np.sin(theta)*np.cos(pa)\n",
      "xm2  =-x0 + a*np.cos(theta)*np.cos(np.pi-pa) - b*np.sin(theta)*np.sin(np.pi-pa)\n",
      "ym2  = y0 + a*np.cos(theta)*np.sin(np.pi-pa) + b*np.sin(theta)*np.cos(np.pi-pa)"
     ],
     "language": "python",
     "metadata": {},
     "outputs": [],
     "prompt_number": 491
    },
    {
     "cell_type": "code",
     "collapsed": false,
     "input": [
      "c=np.sqrt(a*a-b*b)\n",
      "apo1= np.array([a*np.cos(np.pi-pa) , a*np.sin(np.pi-pa)])\n",
      "c1= np.array([c*np.cos(np.pi-pa), c*np.sin(np.pi-pa)])\n",
      "c2=-c1\n",
      "apo2= -apo1"
     ],
     "language": "python",
     "metadata": {},
     "outputs": [],
     "prompt_number": 492
    },
    {
     "cell_type": "code",
     "collapsed": false,
     "input": [
      "plt.figure(figsize=(7,7))\n",
      "plt.plot(xm,ym,color='red')\n",
      "plt.scatter(c1[0]-x0,c1[1]+y0,s=100,color='blue')\n",
      "plt.scatter(c2[0]-x0,c2[1]+y0,s=100,color='blue')\n",
      "plt.plot([apo1[0]-x0, apo2[0]-x0],[apo1[1]+y0,apo2[1]+y0])\n",
      "plt.scatter(apo1[0]-x0,apo1[1]+y0,color='red')\n",
      "plt.scatter(apo2[0]-x0,apo2[1]+y0,color='red')\n",
      "plt.scatter(-x0,y0,color='red')\n",
      "plt.xlim(-200,200)\n",
      "plt.ylim(-200,200)\n",
      "plt.show()"
     ],
     "language": "python",
     "metadata": {},
     "outputs": [],
     "prompt_number": 493
    },
    {
     "cell_type": "code",
     "collapsed": false,
     "input": [
      "xmassc     = np.array([])\n",
      "ymassc     = np.array([])\n",
      "cirmass    = np.array([])\n",
      "masa_mu24c = 0.\n",
      "for i in range(len(posx)):\n",
      "    if ptype[i] !=-1:\n",
      "        continue\n",
      "    dc1 = ((posx[i]-(c1[0]-x0))**2+(posy[i]-(c1[1]+y0))**2)**0.5\n",
      "    dc2 = ((posx[i]-(c2[0]-x0))**2+(posy[i]-(c2[1]+y0))**2)**0.5\n",
      "    d   = (posx[i]**2+posy[i]**2)**0.5\n",
      "    if (dc1 + dc2 - 2*a) > 0 and (d-r24[reg-1]) <=0:\n",
      "        masa_mu24c = masa_mu24c + pmass[i]\n",
      "        xmassc  = np.append(xmassc,posx[i])\n",
      "        ymassc  = np.append(ymassc,posy[i])\n",
      "        cirmass = np.append(cirmass, pmass[i])"
     ],
     "language": "python",
     "metadata": {},
     "outputs": [],
     "prompt_number": 494
    },
    {
     "cell_type": "code",
     "collapsed": false,
     "input": [
      "xmass   = np.array([])\n",
      "ymass   = np.array([])\n",
      "ellmass  = np.array([])\n",
      "masa_mu24=0\n",
      "for i in range(len(posx)):\n",
      "    if ptype[i] !=-1:\n",
      "        continue\n",
      "    dc1 = ((posx[i]-(c1[0]-x0))**2+(posy[i]-(c1[1]+y0))**2)**0.5\n",
      "    dc2 = ((posx[i]-(c2[0]-x0))**2+(posy[i]-(c2[1]+y0))**2)**0.5\n",
      "    if (dc1 + dc2 - 2*a) <= 0:\n",
      "        masa_mu24 = masa_mu24 + pmass[i]\n",
      "        xmass = np.append(xmass,posx[i])\n",
      "        ymass = np.append(ymass,posy[i])\n",
      "        ellmass= np.append(ellmass, pmass[i])"
     ],
     "language": "python",
     "metadata": {},
     "outputs": [],
     "prompt_number": 495
    },
    {
     "cell_type": "code",
     "collapsed": false,
     "input": [
      "xmu   = np.array([])\n",
      "ymu   = np.array([])\n",
      "mumu  = np.array([]) \n",
      "for i in range(len(x)):\n",
      "    if sb[i]<24.0005:\n",
      "        xmu   = np.append(xmu  , x[i])\n",
      "        ymu   = np.append(ymu  , y[i])\n",
      "        mumu  = np.append(mumu , sb[i])"
     ],
     "language": "python",
     "metadata": {},
     "outputs": [],
     "prompt_number": 496
    },
    {
     "cell_type": "code",
     "collapsed": false,
     "input": [
      "from matplotlib.offsetbox import AnchoredText\n",
      "\n",
      "plt.rc('text', usetex=True)\n",
      "font = {'family': 'serif', 'size': 30, 'serif': ['computer modern roman']}\n",
      "plt.rc('font', **font)\n",
      "plt.rc('legend', **{'fontsize': 24}) #27 \n",
      "plt.rcParams['text.latex.preamble'] = [r'\\usepackage{amsmath}']\n",
      "\n",
      "plt.rcParams['axes.linewidth'] = 1.0\n",
      "plt.rcParams['xtick.major.size'] = 8\n",
      "plt.rcParams['xtick.minor.size'] = 4\n",
      "plt.rcParams['ytick.major.size'] = 6\n",
      "plt.rcParams['ytick.minor.size'] = 3\n",
      "mpl.rc('lines', linewidth=2)"
     ],
     "language": "python",
     "metadata": {},
     "outputs": [],
     "prompt_number": 497
    },
    {
     "cell_type": "code",
     "collapsed": false,
     "input": [
      "fig=plt.figure(figsize=(7,7))\n",
      "ax = fig.add_subplot(111)\n",
      "\n",
      "plt.scatter(xmu,ymu,s=0.9,color='#25AE60',marker='.',label='')\n",
      "plt.scatter(xmass,ymass,s=0.02,color='#FFB300',marker='.',alpha=0.9,label='')\n",
      "plt.scatter(xmassc,ymassc,s=0.2,color='#7200A4',marker='.',alpha=0.9,label='')\n",
      "\n",
      "plt.plot(xm,ym,color='#FFB300')\n",
      "circle1=plt.Circle((0, 0),r24[reg-1], edgecolor='#7200A4', facecolor='none', linewidth=2)\n",
      "\n",
      "l1 = plt.Line2D((0, 1), (0, 0), color='#25AE60',linewidth=2)\n",
      "l2 = plt.Line2D((0, 1), (0, 0), color='#FFB300',linewidth=2)\n",
      "l3 = plt.Line2D((0, 1), (0, 0), color='#7200A4',linewidth=2)\n",
      "\n",
      "text3='M$_{\\mu_{24},circulo}$'\n",
      "text2='M$_{\\mu_{24},elipse}$'\n",
      "text1='$\\mu < 24$'\n",
      "\n",
      "objects = [l1,l2,l3]\n",
      "labels = [text1,text2,text3]\n",
      "\n",
      "plt.legend(objects,labels,loc='upper left', fontsize=25,frameon=False, scatterpoints=1, borderpad=0.6, labelspacing=0.1,handlelength=0.2)\n",
      "#l.get_texts()[0].set_color('white')\n",
      "#l.get_texts()[1].set_color('white')\n",
      "plt.gcf().gca().add_artist(circle1)\n",
      "#plt.gcf().gca().add_artist(elipse)\n",
      "\n",
      "xticks = ax.xaxis.get_major_ticks()\n",
      "xticks[0].label1.set_visible(False)\n",
      "xticks[-1].label1.set_visible(False)\n",
      "yticks = ax.yaxis.get_major_ticks()\n",
      "yticks[0].label1.set_visible(False)\n",
      "yticks[-1].label1.set_visible(False)\n",
      "\n",
      "ax.minorticks_on()\n",
      "plt.xlim(-300,300)\n",
      "plt.ylim(-300,300)\n",
      "plt.xlabel('X [Kpc]')\n",
      "plt.ylabel('Y [Kpc]')\n",
      "plt.savefig('D'+str(reg)+'elipse-circ.pdf', format='pdf', dpi=500,bbox_inches='tight')\n",
      "plt.show()"
     ],
     "language": "python",
     "metadata": {},
     "outputs": [],
     "prompt_number": 503
    },
    {
     "cell_type": "code",
     "collapsed": false,
     "input": [
      "myfile = open(ssnap[snap]+'masas_elipses.txt','a')\n",
      "myfile.write('{reg:4s} {mass:10.5g}\\n'.format(reg='D'+str(reg),mass=masa_mu24))\n",
      "myfile.close()"
     ],
     "language": "python",
     "metadata": {},
     "outputs": [],
     "prompt_number": 499
    },
    {
     "cell_type": "code",
     "collapsed": false,
     "input": [
      "me = np.loadtxt(ssnap[snap]+'masas_elipses.txt', usecols=[1], unpack=True)"
     ],
     "language": "python",
     "metadata": {},
     "outputs": [],
     "prompt_number": 501
    },
    {
     "cell_type": "code",
     "collapsed": false,
     "input": [],
     "language": "python",
     "metadata": {},
     "outputs": []
    },
    {
     "cell_type": "code",
     "collapsed": false,
     "input": [],
     "language": "python",
     "metadata": {},
     "outputs": []
    },
    {
     "cell_type": "code",
     "collapsed": false,
     "input": [],
     "language": "python",
     "metadata": {},
     "outputs": []
    },
    {
     "cell_type": "code",
     "collapsed": false,
     "input": [],
     "language": "python",
     "metadata": {},
     "outputs": []
    },
    {
     "cell_type": "code",
     "collapsed": false,
     "input": [],
     "language": "python",
     "metadata": {},
     "outputs": []
    },
    {
     "cell_type": "code",
     "collapsed": false,
     "input": [
      "for i in range(29):\n",
      "    factor = me[i]/m24[i]\n",
      "    print factor"
     ],
     "language": "python",
     "metadata": {},
     "outputs": [
      {
       "output_type": "stream",
       "stream": "stdout",
       "text": [
        "1.05750269044\n",
        "1.03138032406\n",
        "1.11131326497\n",
        "1.28660660661\n",
        "1.10632421426\n",
        "0.945499193667\n",
        "0.951079051266\n",
        "0.931486040543\n",
        "1.04946299838\n",
        "1.10235559671\n",
        "0.851625634279\n",
        "0.903456274646\n",
        "0.850932909885\n",
        "1.02846568899\n",
        "0.981307775965\n",
        "0.997693574959\n",
        "0.959040232671\n",
        "0.956342668863\n",
        "0.961721740489\n",
        "0.987687042877\n",
        "0.942142547347\n",
        "1.08995478036\n",
        "1.15394827417\n",
        "1.00781788308\n",
        "0.932338749385\n",
        "0.992427124036\n",
        "0.920651183971\n",
        "1.01253078685\n",
        "0.771499392958\n"
       ]
      }
     ],
     "prompt_number": 502
    },
    {
     "cell_type": "code",
     "collapsed": false,
     "input": [],
     "language": "python",
     "metadata": {},
     "outputs": [],
     "prompt_number": 19
    },
    {
     "cell_type": "code",
     "collapsed": false,
     "input": [],
     "language": "python",
     "metadata": {},
     "outputs": []
    }
   ],
   "metadata": {}
  }
 ]
}