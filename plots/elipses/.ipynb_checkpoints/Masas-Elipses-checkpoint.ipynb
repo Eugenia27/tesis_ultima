{
 "metadata": {
  "name": "",
  "signature": "sha256:25463507ca3b9fb2ce2ba3b75adc76dd10d6d4e96713e8654f31719fa7b99d03"
 },
 "nbformat": 3,
 "nbformat_minor": 0,
 "worksheets": []
}